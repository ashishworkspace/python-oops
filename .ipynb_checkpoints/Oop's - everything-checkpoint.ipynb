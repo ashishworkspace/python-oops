{
 "cells": [
  {
   "cell_type": "code",
   "execution_count": 100,
   "metadata": {},
   "outputs": [],
   "source": [
    "class Visitors:\n",
    "    # global variable\n",
    "    country = 'IN'\n",
    "    def __init__(self, fname, lname, ph):\n",
    "        self.firstName = fname\n",
    "        self.lastName = lname\n",
    "        self.contact = ph\n",
    "    \n",
    "    #class method: getter\n",
    "    @classmethod\n",
    "    def get_region(cls):\n",
    "        return cls.country\n",
    "    \n",
    "    #class method: setter\n",
    "    @classmethod\n",
    "    def set_country(cls, region):\n",
    "        cls.country = region \n",
    "        \n",
    "    @staticmethod\n",
    "    def fix_method():\n",
    "        print(\"Hello Visitor\")\n",
    "        \n",
    "    # instance method: getter\n",
    "    def get_fullName(self):\n",
    "        return self.firstName + \" \"+ self.lastName\n",
    "    # instance method: setter\n",
    "    def set_phone(self, phone):\n",
    "        self.contact = phone\n",
    "        return self.contact  "
   ]
  },
  {
   "cell_type": "code",
   "execution_count": 101,
   "metadata": {},
   "outputs": [],
   "source": [
    "user1  = Visitors(\"Ashish\", \"Kumar\", 7008557340)"
   ]
  },
  {
   "cell_type": "code",
   "execution_count": 102,
   "metadata": {},
   "outputs": [
    {
     "data": {
      "text/plain": [
       "9122350079"
      ]
     },
     "execution_count": 102,
     "metadata": {},
     "output_type": "execute_result"
    }
   ],
   "source": [
    "user1.set_phone(9122350079)"
   ]
  },
  {
   "cell_type": "code",
   "execution_count": 103,
   "metadata": {},
   "outputs": [],
   "source": [
    "class Employ(Visitors):\n",
    "    def __init__(self, fname, lname, ph, exp):\n",
    "        super().__init__(fname, lname, ph)\n",
    "        self.experience = exp"
   ]
  },
  {
   "cell_type": "code",
   "execution_count": 104,
   "metadata": {},
   "outputs": [],
   "source": [
    "user2 = Employ(\"Ankit\", \"Kumar\", 9122564225, 2)"
   ]
  },
  {
   "cell_type": "code",
   "execution_count": 105,
   "metadata": {},
   "outputs": [
    {
     "data": {
      "text/plain": [
       "'Ankit Kumar'"
      ]
     },
     "execution_count": 105,
     "metadata": {},
     "output_type": "execute_result"
    }
   ],
   "source": [
    "user2.get_fullName()"
   ]
  },
  {
   "cell_type": "code",
   "execution_count": 106,
   "metadata": {},
   "outputs": [
    {
     "data": {
      "text/plain": [
       "{'firstName': 'Ankit',\n",
       " 'lastName': 'Kumar',\n",
       " 'contact': 9122564225,\n",
       " 'experience': 2}"
      ]
     },
     "execution_count": 106,
     "metadata": {},
     "output_type": "execute_result"
    }
   ],
   "source": [
    "user2.__dict__"
   ]
  },
  {
   "cell_type": "code",
   "execution_count": 107,
   "metadata": {},
   "outputs": [
    {
     "data": {
      "text/plain": [
       "'IN'"
      ]
     },
     "execution_count": 107,
     "metadata": {},
     "output_type": "execute_result"
    }
   ],
   "source": [
    "Visitors.country "
   ]
  },
  {
   "cell_type": "code",
   "execution_count": 108,
   "metadata": {},
   "outputs": [
    {
     "data": {
      "text/plain": [
       "'IN'"
      ]
     },
     "execution_count": 108,
     "metadata": {},
     "output_type": "execute_result"
    }
   ],
   "source": [
    "Visitors.get_region()"
   ]
  },
  {
   "cell_type": "code",
   "execution_count": 109,
   "metadata": {},
   "outputs": [
    {
     "name": "stdout",
     "output_type": "stream",
     "text": [
      "Hello Visitor\n"
     ]
    }
   ],
   "source": [
    "Visitors.fix_method()"
   ]
  },
  {
   "cell_type": "code",
   "execution_count": null,
   "metadata": {},
   "outputs": [],
   "source": []
  }
 ],
 "metadata": {
  "kernelspec": {
   "display_name": "Python 3",
   "language": "python",
   "name": "python3"
  },
  "language_info": {
   "codemirror_mode": {
    "name": "ipython",
    "version": 3
   },
   "file_extension": ".py",
   "mimetype": "text/x-python",
   "name": "python",
   "nbconvert_exporter": "python",
   "pygments_lexer": "ipython3",
   "version": "3.8.3"
  }
 },
 "nbformat": 4,
 "nbformat_minor": 4
}
