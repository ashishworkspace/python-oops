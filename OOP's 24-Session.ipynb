{
 "cells": [
  {
   "cell_type": "code",
   "execution_count": 11,
   "metadata": {},
   "outputs": [],
   "source": [
    "# self inside function hold the reference address of the current object \n",
    "# we can write any name instead of self \n",
    "\n",
    "class visitors: # class is just a template \n",
    "    roll = \"\"\n",
    "    phone = \"\"\n",
    "    # get_id and send_sms is function declaration \n",
    "    def get_id(self): # if we does not provide self variable here it will show you error.\n",
    "                      # Because it require a variable to hold the address of object. \n",
    "        print(self)\n",
    "        print('id is: ', self.roll)\n",
    "    def send_sms(self):\n",
    "        print(self)   # it will print the address of the object which is currently accessing it.\n",
    "        print('phone no. is: ', self.phone)"
   ]
  },
  {
   "cell_type": "code",
   "execution_count": 12,
   "metadata": {},
   "outputs": [],
   "source": [
    "#instantiation\n",
    "#eric -> object instance\n",
    "eric = visitors()"
   ]
  },
  {
   "cell_type": "code",
   "execution_count": 13,
   "metadata": {},
   "outputs": [
    {
     "data": {
      "text/plain": [
       "<__main__.visitors at 0x2d61fcc1df0>"
      ]
     },
     "execution_count": 13,
     "metadata": {},
     "output_type": "execute_result"
    }
   ],
   "source": [
    "eric # here eric is a just a variable of object instance"
   ]
  },
  {
   "cell_type": "code",
   "execution_count": 14,
   "metadata": {},
   "outputs": [],
   "source": [
    "eric.phone = 1234 # variable initialization "
   ]
  },
  {
   "cell_type": "code",
   "execution_count": 15,
   "metadata": {},
   "outputs": [
    {
     "name": "stdout",
     "output_type": "stream",
     "text": [
      "<__main__.visitors object at 0x000002D61FCC1DF0>\n",
      "phone no. is:  1234\n"
     ]
    }
   ],
   "source": [
    "eric.send_sms() # function calling "
   ]
  },
  {
   "cell_type": "code",
   "execution_count": 16,
   "metadata": {},
   "outputs": [],
   "source": [
    "jack = visitors()"
   ]
  },
  {
   "cell_type": "code",
   "execution_count": 19,
   "metadata": {},
   "outputs": [
    {
     "data": {
      "text/plain": [
       "<__main__.visitors at 0x2d61fcc1ee0>"
      ]
     },
     "execution_count": 19,
     "metadata": {},
     "output_type": "execute_result"
    }
   ],
   "source": [
    "jack"
   ]
  },
  {
   "cell_type": "code",
   "execution_count": 17,
   "metadata": {},
   "outputs": [],
   "source": [
    "jack.roll = \"65876\" "
   ]
  },
  {
   "cell_type": "code",
   "execution_count": 18,
   "metadata": {},
   "outputs": [
    {
     "name": "stdout",
     "output_type": "stream",
     "text": [
      "<__main__.visitors object at 0x000002D61FCC1EE0>\n",
      "id is:  65876\n"
     ]
    }
   ],
   "source": [
    "jack.get_id()"
   ]
  },
  {
   "cell_type": "markdown",
   "metadata": {},
   "source": [
    "# --------------------------------------------------------------------------------\n",
    "# Actual Code"
   ]
  },
  {
   "cell_type": "code",
   "execution_count": 40,
   "metadata": {},
   "outputs": [],
   "source": [
    "class form:\n",
    "    def __init__(self, roll_, phone_):# this is argument constructor\n",
    "        print(\"this is a constructor\")\n",
    "        self.roll = roll_\n",
    "        self.phone = phone_\n",
    "    def printRoll(self):\n",
    "        print(\"Your roll no. is: \", self.roll)\n",
    "    def printPhone(self):\n",
    "        print(\"Your phone no. is: \", self.phone)"
   ]
  },
  {
   "cell_type": "code",
   "execution_count": 41,
   "metadata": {},
   "outputs": [
    {
     "name": "stdout",
     "output_type": "stream",
     "text": [
      "this is a constructor\n"
     ]
    }
   ],
   "source": [
    "harry = form(\"121\",\"45455\")"
   ]
  },
  {
   "cell_type": "code",
   "execution_count": 42,
   "metadata": {},
   "outputs": [
    {
     "name": "stdout",
     "output_type": "stream",
     "text": [
      "Your roll no. is:  121\n",
      "None\n"
     ]
    }
   ],
   "source": [
    "print(harry.printRoll())"
   ]
  },
  {
   "cell_type": "code",
   "execution_count": null,
   "metadata": {},
   "outputs": [],
   "source": []
  },
  {
   "cell_type": "code",
   "execution_count": null,
   "metadata": {},
   "outputs": [],
   "source": []
  }
 ],
 "metadata": {
  "kernelspec": {
   "display_name": "Python 3",
   "language": "python",
   "name": "python3"
  },
  "language_info": {
   "codemirror_mode": {
    "name": "ipython",
    "version": 3
   },
   "file_extension": ".py",
   "mimetype": "text/x-python",
   "name": "python",
   "nbconvert_exporter": "python",
   "pygments_lexer": "ipython3",
   "version": "3.8.5"
  }
 },
 "nbformat": 4,
 "nbformat_minor": 4
}
